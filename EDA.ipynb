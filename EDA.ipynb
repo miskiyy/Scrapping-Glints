{
 "cells": [
  {
   "cell_type": "code",
   "execution_count": 1,
   "id": "cfffaf36",
   "metadata": {},
   "outputs": [],
   "source": [
    "import pandas as pd\n",
    "\n",
    "df = pd.read_csv('all_glints.csv')"
   ]
  },
  {
   "cell_type": "code",
   "execution_count": 2,
   "id": "95650310",
   "metadata": {},
   "outputs": [
    {
     "name": "stdout",
     "output_type": "stream",
     "text": [
      "<class 'pandas.core.frame.DataFrame'>\n",
      "RangeIndex: 87824 entries, 0 to 87823\n",
      "Data columns (total 2 columns):\n",
      " #   Column       Non-Null Count  Dtype \n",
      "---  ------       --------------  ----- \n",
      " 0   Job Link     87824 non-null  object\n",
      " 1   source_file  87824 non-null  object\n",
      "dtypes: object(2)\n",
      "memory usage: 1.3+ MB\n"
     ]
    }
   ],
   "source": [
    "df.info()"
   ]
  },
  {
   "cell_type": "code",
   "execution_count": 4,
   "id": "6e233c8c",
   "metadata": {},
   "outputs": [
    {
     "name": "stdout",
     "output_type": "stream",
     "text": [
      "Unique: 87746\n",
      "Duplicates: 79\n"
     ]
    }
   ],
   "source": [
    "unique_links = df['Job Link'].nunique()\n",
    "print(f\"Unique: {unique_links}\")\n",
    "\n",
    "duplicates = df[df.duplicated(subset='Job Link', keep=False)]\n",
    "print(f\"Duplicates: {len(duplicates)}\")"
   ]
  },
  {
   "cell_type": "code",
   "execution_count": 1,
   "id": "a5cf30ae",
   "metadata": {},
   "outputs": [
    {
     "ename": "NameError",
     "evalue": "name 'df' is not defined",
     "output_type": "error",
     "traceback": [
      "\u001b[31m---------------------------------------------------------------------------\u001b[39m",
      "\u001b[31mNameError\u001b[39m                                 Traceback (most recent call last)",
      "\u001b[36mCell\u001b[39m\u001b[36m \u001b[39m\u001b[32mIn[1]\u001b[39m\u001b[32m, line 1\u001b[39m\n\u001b[32m----> \u001b[39m\u001b[32m1\u001b[39m df_cleaned = \u001b[43mdf\u001b[49m.drop_duplicates(subset=\u001b[33m'\u001b[39m\u001b[33mJob Link\u001b[39m\u001b[33m'\u001b[39m)\n\u001b[32m      2\u001b[39m df_cleaned.to_csv(\u001b[33m'\u001b[39m\u001b[33mall_glints_cleaned.csv\u001b[39m\u001b[33m'\u001b[39m, index=\u001b[38;5;28;01mFalse\u001b[39;00m)\n\u001b[32m      4\u001b[39m \u001b[38;5;66;03m# Cek hasil akhir\u001b[39;00m\n",
      "\u001b[31mNameError\u001b[39m: name 'df' is not defined"
     ]
    }
   ],
   "source": [
    "df_cleaned = df.drop_duplicates(subset='Job Link')\n",
    "df_cleaned.to_csv('all_glints_cleaned.csv', index=False)\n",
    "\n",
    "# Cek hasil akhir\n",
    "print(f\"Jumlah bersih: {len(df_cleaned)}\")\n",
    "df_cleaned.head() "
   ]
  },
  {
   "cell_type": "code",
   "execution_count": 2,
   "id": "6fc2ff06",
   "metadata": {},
   "outputs": [
    {
     "data": {
      "text/html": [
       "<div>\n",
       "<style scoped>\n",
       "    .dataframe tbody tr th:only-of-type {\n",
       "        vertical-align: middle;\n",
       "    }\n",
       "\n",
       "    .dataframe tbody tr th {\n",
       "        vertical-align: top;\n",
       "    }\n",
       "\n",
       "    .dataframe thead th {\n",
       "        text-align: right;\n",
       "    }\n",
       "</style>\n",
       "<table border=\"1\" class=\"dataframe\">\n",
       "  <thead>\n",
       "    <tr style=\"text-align: right;\">\n",
       "      <th></th>\n",
       "      <th>url</th>\n",
       "      <th>posisi</th>\n",
       "      <th>company</th>\n",
       "      <th>lokasi</th>\n",
       "      <th>industry</th>\n",
       "      <th>employment_type</th>\n",
       "      <th>tanggal_posting</th>\n",
       "      <th>salary</th>\n",
       "      <th>description</th>\n",
       "      <th>requirements</th>\n",
       "      <th>skills</th>\n",
       "      <th>source_file</th>\n",
       "    </tr>\n",
       "  </thead>\n",
       "  <tbody>\n",
       "    <tr>\n",
       "      <th>0</th>\n",
       "      <td>https://glints.com/id/opportunities/jobs/sales...</td>\n",
       "      <td>Sales Consultant</td>\n",
       "      <td>PT AMBARA KARYA BERSAMA</td>\n",
       "      <td>Pekerjaan</td>\n",
       "      <td>Business Development &amp; Sales</td>\n",
       "      <td>NaN</td>\n",
       "      <td>NaN</td>\n",
       "      <td>NaN</td>\n",
       "      <td>Requirements : Pria / Wanita, usia max 25 tahu...</td>\n",
       "      <td>Kerja di kantor, Pengalaman kurang dari 1 tahu...</td>\n",
       "      <td>Sales and Marketing, Negotiation Skills, Teamwork</td>\n",
       "      <td>job_links_Consultant.csv</td>\n",
       "    </tr>\n",
       "    <tr>\n",
       "      <th>1</th>\n",
       "      <td>https://glints.com/id/opportunities/jobs/sales...</td>\n",
       "      <td>Sales Consultant</td>\n",
       "      <td>Satya Mandiri Motors</td>\n",
       "      <td>Pekerjaan</td>\n",
       "      <td>Industri Jasa</td>\n",
       "      <td>NaN</td>\n",
       "      <td>NaN</td>\n",
       "      <td>NaN</td>\n",
       "      <td>Pria / Wanita usia max 30th Pendidikan min SMA...</td>\n",
       "      <td>Kerja di kantor, 1 - 3 tahun pengalaman, Minim...</td>\n",
       "      <td>Automotive Engineering, Communicative, Custome...</td>\n",
       "      <td>job_links_Consultant.csv</td>\n",
       "    </tr>\n",
       "    <tr>\n",
       "      <th>2</th>\n",
       "      <td>https://glints.com/id/opportunities/jobs/accou...</td>\n",
       "      <td>Accounting Staff</td>\n",
       "      <td>PT Sentrasarana TirtaBening (Yuki Water Filter)</td>\n",
       "      <td>Pekerjaan</td>\n",
       "      <td>Finance</td>\n",
       "      <td>NaN</td>\n",
       "      <td>NaN</td>\n",
       "      <td>NaN</td>\n",
       "      <td>Job Qualification: Graduates majoring in Finan...</td>\n",
       "      <td>Kerja di kantor, 1 - 3 tahun pengalaman, Minim...</td>\n",
       "      <td>Teamwork, Accounting, Microsoft Office</td>\n",
       "      <td>job_links_Accounting_Staff.csv</td>\n",
       "    </tr>\n",
       "    <tr>\n",
       "      <th>3</th>\n",
       "      <td>https://glints.com/id/opportunities/jobs/sales...</td>\n",
       "      <td>Sales Consultant</td>\n",
       "      <td>PT Sigzacindo Nusantara (Coloni) Surabaya</td>\n",
       "      <td>Pekerjaan</td>\n",
       "      <td>Business Development &amp; Sales</td>\n",
       "      <td>NaN</td>\n",
       "      <td>NaN</td>\n",
       "      <td>NaN</td>\n",
       "      <td>Min SMK/SMA/Fresh Graduate Lebih diutamakan pe...</td>\n",
       "      <td>Kerja di kantor, Pengalaman kurang dari 1 tahu...</td>\n",
       "      <td>Teamwork, Negotiation Skills, Communication Sk...</td>\n",
       "      <td>job_links_Consultant.csv</td>\n",
       "    </tr>\n",
       "    <tr>\n",
       "      <th>4</th>\n",
       "      <td>https://glints.com/id/opportunities/jobs/acade...</td>\n",
       "      <td>Academic Sales Consultant</td>\n",
       "      <td>PT Chandra Naya Laksana (CNL Books)</td>\n",
       "      <td>Pekerjaan</td>\n",
       "      <td>Business Development &amp; Sales</td>\n",
       "      <td>NaN</td>\n",
       "      <td>NaN</td>\n",
       "      <td>NaN</td>\n",
       "      <td>JOIN CNL BOOKS: Academic Sales Consultant Are ...</td>\n",
       "      <td>Hybrid, 3 - 5 tahun pengalaman, Minimal Sarjan...</td>\n",
       "      <td>Perusahaan Premium, Perusahaan Premium, Perusa...</td>\n",
       "      <td>job_links_Consultant.csv</td>\n",
       "    </tr>\n",
       "  </tbody>\n",
       "</table>\n",
       "</div>"
      ],
      "text/plain": [
       "                                                 url  \\\n",
       "0  https://glints.com/id/opportunities/jobs/sales...   \n",
       "1  https://glints.com/id/opportunities/jobs/sales...   \n",
       "2  https://glints.com/id/opportunities/jobs/accou...   \n",
       "3  https://glints.com/id/opportunities/jobs/sales...   \n",
       "4  https://glints.com/id/opportunities/jobs/acade...   \n",
       "\n",
       "                      posisi                                          company  \\\n",
       "0           Sales Consultant                          PT AMBARA KARYA BERSAMA   \n",
       "1           Sales Consultant                             Satya Mandiri Motors   \n",
       "2           Accounting Staff  PT Sentrasarana TirtaBening (Yuki Water Filter)   \n",
       "3           Sales Consultant        PT Sigzacindo Nusantara (Coloni) Surabaya   \n",
       "4  Academic Sales Consultant              PT Chandra Naya Laksana (CNL Books)   \n",
       "\n",
       "      lokasi                      industry  employment_type  tanggal_posting  \\\n",
       "0  Pekerjaan  Business Development & Sales              NaN              NaN   \n",
       "1  Pekerjaan                 Industri Jasa              NaN              NaN   \n",
       "2  Pekerjaan                       Finance              NaN              NaN   \n",
       "3  Pekerjaan  Business Development & Sales              NaN              NaN   \n",
       "4  Pekerjaan  Business Development & Sales              NaN              NaN   \n",
       "\n",
       "   salary                                        description  \\\n",
       "0     NaN  Requirements : Pria / Wanita, usia max 25 tahu...   \n",
       "1     NaN  Pria / Wanita usia max 30th Pendidikan min SMA...   \n",
       "2     NaN  Job Qualification: Graduates majoring in Finan...   \n",
       "3     NaN  Min SMK/SMA/Fresh Graduate Lebih diutamakan pe...   \n",
       "4     NaN  JOIN CNL BOOKS: Academic Sales Consultant Are ...   \n",
       "\n",
       "                                        requirements  \\\n",
       "0  Kerja di kantor, Pengalaman kurang dari 1 tahu...   \n",
       "1  Kerja di kantor, 1 - 3 tahun pengalaman, Minim...   \n",
       "2  Kerja di kantor, 1 - 3 tahun pengalaman, Minim...   \n",
       "3  Kerja di kantor, Pengalaman kurang dari 1 tahu...   \n",
       "4  Hybrid, 3 - 5 tahun pengalaman, Minimal Sarjan...   \n",
       "\n",
       "                                              skills  \\\n",
       "0  Sales and Marketing, Negotiation Skills, Teamwork   \n",
       "1  Automotive Engineering, Communicative, Custome...   \n",
       "2             Teamwork, Accounting, Microsoft Office   \n",
       "3  Teamwork, Negotiation Skills, Communication Sk...   \n",
       "4  Perusahaan Premium, Perusahaan Premium, Perusa...   \n",
       "\n",
       "                      source_file  \n",
       "0        job_links_Consultant.csv  \n",
       "1        job_links_Consultant.csv  \n",
       "2  job_links_Accounting_Staff.csv  \n",
       "3        job_links_Consultant.csv  \n",
       "4        job_links_Consultant.csv  "
      ]
     },
     "execution_count": 2,
     "metadata": {},
     "output_type": "execute_result"
    }
   ],
   "source": [
    "import pandas as pd\n",
    "df_scrapped = pd.read_csv('scraped_batch_01 copy.csv')\n",
    "df_scrapped.head()"
   ]
  }
 ],
 "metadata": {
  "kernelspec": {
   "display_name": "Job",
   "language": "python",
   "name": "job"
  },
  "language_info": {
   "codemirror_mode": {
    "name": "ipython",
    "version": 3
   },
   "file_extension": ".py",
   "mimetype": "text/x-python",
   "name": "python",
   "nbconvert_exporter": "python",
   "pygments_lexer": "ipython3",
   "version": "3.12.4"
  }
 },
 "nbformat": 4,
 "nbformat_minor": 5
}
