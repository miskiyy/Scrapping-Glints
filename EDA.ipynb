{
 "cells": [
  {
   "cell_type": "code",
   "execution_count": 1,
   "id": "cfffaf36",
   "metadata": {},
   "outputs": [],
   "source": [
    "import pandas as pd\n",
    "\n",
    "df = pd.read_csv('all_glints.csv')"
   ]
  },
  {
   "cell_type": "code",
   "execution_count": 2,
   "id": "95650310",
   "metadata": {},
   "outputs": [
    {
     "name": "stdout",
     "output_type": "stream",
     "text": [
      "<class 'pandas.core.frame.DataFrame'>\n",
      "RangeIndex: 87824 entries, 0 to 87823\n",
      "Data columns (total 2 columns):\n",
      " #   Column       Non-Null Count  Dtype \n",
      "---  ------       --------------  ----- \n",
      " 0   Job Link     87824 non-null  object\n",
      " 1   source_file  87824 non-null  object\n",
      "dtypes: object(2)\n",
      "memory usage: 1.3+ MB\n"
     ]
    }
   ],
   "source": [
    "df.info()"
   ]
  },
  {
   "cell_type": "code",
   "execution_count": 4,
   "id": "6e233c8c",
   "metadata": {},
   "outputs": [
    {
     "name": "stdout",
     "output_type": "stream",
     "text": [
      "Unique: 87746\n",
      "Duplicates: 79\n"
     ]
    }
   ],
   "source": [
    "unique_links = df['Job Link'].nunique()\n",
    "print(f\"Unique: {unique_links}\")\n",
    "\n",
    "duplicates = df[df.duplicated(subset='Job Link', keep=False)]\n",
    "print(f\"Duplicates: {len(duplicates)}\")"
   ]
  },
  {
   "cell_type": "code",
   "execution_count": 1,
   "id": "a5cf30ae",
   "metadata": {},
   "outputs": [
    {
     "ename": "NameError",
     "evalue": "name 'df' is not defined",
     "output_type": "error",
     "traceback": [
      "\u001b[31m---------------------------------------------------------------------------\u001b[39m",
      "\u001b[31mNameError\u001b[39m                                 Traceback (most recent call last)",
      "\u001b[36mCell\u001b[39m\u001b[36m \u001b[39m\u001b[32mIn[1]\u001b[39m\u001b[32m, line 1\u001b[39m\n\u001b[32m----> \u001b[39m\u001b[32m1\u001b[39m df_cleaned = \u001b[43mdf\u001b[49m.drop_duplicates(subset=\u001b[33m'\u001b[39m\u001b[33mJob Link\u001b[39m\u001b[33m'\u001b[39m)\n\u001b[32m      2\u001b[39m df_cleaned.to_csv(\u001b[33m'\u001b[39m\u001b[33mall_glints_cleaned.csv\u001b[39m\u001b[33m'\u001b[39m, index=\u001b[38;5;28;01mFalse\u001b[39;00m)\n\u001b[32m      4\u001b[39m \u001b[38;5;66;03m# Cek hasil akhir\u001b[39;00m\n",
      "\u001b[31mNameError\u001b[39m: name 'df' is not defined"
     ]
    }
   ],
   "source": [
    "df_cleaned = df.drop_duplicates(subset='Job Link')\n",
    "df_cleaned.to_csv('all_glints_cleaned.csv', index=False)\n",
    "\n",
    "# Cek hasil akhir\n",
    "print(f\"Jumlah bersih: {len(df_cleaned)}\")\n",
    "df_cleaned.head() "
   ]
  },
  {
   "cell_type": "code",
   "execution_count": 2,
   "id": "6fc2ff06",
   "metadata": {},
   "outputs": [
    {
     "name": "stdout",
     "output_type": "stream",
     "text": [
      "<class 'pandas.core.frame.DataFrame'>\n",
      "RangeIndex: 5000 entries, 0 to 4999\n",
      "Data columns (total 12 columns):\n",
      " #   Column           Non-Null Count  Dtype \n",
      "---  ------           --------------  ----- \n",
      " 0   url              5000 non-null   object\n",
      " 1   posisi           4983 non-null   object\n",
      " 2   company          4983 non-null   object\n",
      " 3   lokasi           4983 non-null   object\n",
      " 4   industry         4983 non-null   object\n",
      " 5   employment_type  4983 non-null   object\n",
      " 6   salary           4517 non-null   object\n",
      " 7   description      4982 non-null   object\n",
      " 8   requirements     4983 non-null   object\n",
      " 9   skills           4983 non-null   object\n",
      " 10  source_file      5000 non-null   object\n",
      " 11  error            17 non-null     object\n",
      "dtypes: object(12)\n",
      "memory usage: 468.9+ KB\n"
     ]
    }
   ],
   "source": [
    "import pandas as pd\n",
    "\n",
    "df_scrapped = pd.read_csv('batch1.1.csv', sep=';')\n",
    "df_scrapped.info()"
   ]
  }
 ],
 "metadata": {
  "kernelspec": {
   "display_name": "Job",
   "language": "python",
   "name": "job"
  },
  "language_info": {
   "codemirror_mode": {
    "name": "ipython",
    "version": 3
   },
   "file_extension": ".py",
   "mimetype": "text/x-python",
   "name": "python",
   "nbconvert_exporter": "python",
   "pygments_lexer": "ipython3",
   "version": "3.12.4"
  }
 },
 "nbformat": 4,
 "nbformat_minor": 5
}
